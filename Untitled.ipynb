{
 "cells": [
  {
   "cell_type": "code",
   "execution_count": 1,
   "id": "1cbd775b",
   "metadata": {},
   "outputs": [
    {
     "name": "stdout",
     "output_type": "stream",
     "text": [
      "야호\n"
     ]
    }
   ],
   "source": [
    "print(\"야호\")"
   ]
  },
  {
   "cell_type": "code",
   "execution_count": null,
   "id": "7c364279",
   "metadata": {},
   "outputs": [],
   "source": [
    "if i == 0:\n",
    "    print(\"바보\")\n",
    "elif i =<99:\n",
    "    print(\"멍청이\")\n",
    "else "
   ]
  }
 ],
 "metadata": {
  "kernelspec": {
   "display_name": "Python 3 (ipykernel)",
   "language": "python",
   "name": "python3"
  },
  "language_info": {
   "codemirror_mode": {
    "name": "ipython",
    "version": 3
   },
   "file_extension": ".py",
   "mimetype": "text/x-python",
   "name": "python",
   "nbconvert_exporter": "python",
   "pygments_lexer": "ipython3",
   "version": "3.10.9"
  }
 },
 "nbformat": 4,
 "nbformat_minor": 5
}
